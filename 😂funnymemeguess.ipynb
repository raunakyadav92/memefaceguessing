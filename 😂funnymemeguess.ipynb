{
  "nbformat": 4,
  "nbformat_minor": 0,
  "metadata": {
    "colab": {
      "provenance": [],
      "authorship_tag": "ABX9TyPdOsyQve8T1vlJE8bSuCaG",
      "include_colab_link": true
    },
    "kernelspec": {
      "name": "python3",
      "display_name": "Python 3"
    },
    "language_info": {
      "name": "python"
    }
  },
  "cells": [
    {
      "cell_type": "markdown",
      "metadata": {
        "id": "view-in-github",
        "colab_type": "text"
      },
      "source": [
        "<a href=\"https://colab.research.google.com/github/raunakyadav92/memefaceguessing/blob/main/%F0%9F%98%82funnymemeguess.ipynb\" target=\"_parent\"><img src=\"https://colab.research.google.com/assets/colab-badge.svg\" alt=\"Open In Colab\"/></a>"
      ]
    },
    {
      "cell_type": "code",
      "execution_count": null,
      "metadata": {
        "id": "rV93LXhX9j65"
      },
      "outputs": [],
      "source": [
        "import random\n",
        "\n",
        "memes = [\n",
        "    {\"question\": \"He always lies, but he always smiles — Who is he?\", \"answer\": \"troll face\"},\n",
        "    {\"question\": \"Always watching, always judging — Who is this meme?\", \"answer\": \"disappointed black guy\"},\n",
        "    {\"question\": \"The face when you realize you forgot your homework?\", \"answer\": \"facepalm\"},\n",
        "    {\"question\": \"Laughs loudly, but disappears when needed — Which meme?\", \"answer\": \"laughing guy\"},\n",
        "]\n",
        "\n",
        "def meme_game():\n",
        "    print(\"\\n=== 🤪 LearnLoop Meme Guess Game ===\\n\")\n",
        "    score = 0\n",
        "    random.shuffle(memes)\n",
        "\n",
        "    for meme in memes:\n",
        "        print(f\"🤔 {meme['question']}\")\n",
        "        answer = input(\"Your Answer: \").lower().strip()\n",
        "        if answer == meme[\"answer\"]:\n",
        "            print(\"😂 Correct!\\n\")\n",
        "            score += 1\n",
        "        else:\n",
        "            print(f\"🙃 Nope! Correct Answer was: {meme['answer'].title()}\\n\")\n",
        "\n",
        "    print(f\"🎯 Your Final Meme Score: {score}/{len(memes)}\")\n",
        "    print(\"Thanks for playing! Keep smiling! 😄\")\n",
        "\n",
        "if __name__ == \"__main__\":\n",
        "    meme_game()\n"
      ]
    }
  ]
}